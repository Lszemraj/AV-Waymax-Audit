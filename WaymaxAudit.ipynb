{
  "cells": [
    {
      "cell_type": "markdown",
      "metadata": {
        "id": "rNYRA6k8Qfyo"
      },
      "source": [
        "# Scenario Data Loading\n",
        "\n",
        "Load in Waymax"
      ]
    },
    {
      "cell_type": "code",
      "execution_count": null,
      "metadata": {
        "id": "lu9C4LgcscaX"
      },
      "outputs": [],
      "source": [
        "!pip install git+https://github.com/waymo-research/waymax.git@main#egg=waymo-waymax"
      ]
    },
    {
      "cell_type": "code",
      "execution_count": null,
      "metadata": {
        "id": "MtgRcYqmtMwD"
      },
      "outputs": [],
      "source": [
        "%%capture\n",
        "import numpy as np\n",
        "import mediapy\n",
        "from tqdm import tqdm\n",
        "import dataclasses\n",
        "\n",
        "from waymax import config as _config\n",
        "from waymax import dataloader\n",
        "from waymax import datatypes\n",
        "from waymax import visualization"
      ]
    },
    {
      "cell_type": "code",
      "source": [
        "import jax\n",
        "from jax import numpy as jnp\n",
        "import numpy as np\n",
        "import mediapy\n",
        "from tqdm import tqdm\n",
        "import dataclasses\n",
        "\n",
        "from waymax import config as _config\n",
        "from waymax import dataloader\n",
        "from waymax import datatypes\n",
        "from waymax import dynamics\n",
        "from waymax import env as _env\n",
        "from waymax import agents\n",
        "from waymax import visualization\n",
        "from waymax.metrics import overlap"
      ],
      "metadata": {
        "id": "61-vkL0Kw0Ak"
      },
      "execution_count": null,
      "outputs": []
    },
    {
      "cell_type": "markdown",
      "source": [
        "Authenticating as I am using colab. Note to run you need approved access to the Waymo open dataset."
      ],
      "metadata": {
        "id": "COJxthByvXzI"
      }
    },
    {
      "cell_type": "code",
      "source": [
        "from google.colab import auth\n",
        "auth.authenticate_user()"
      ],
      "metadata": {
        "id": "XCv8-7NGspFm"
      },
      "execution_count": null,
      "outputs": []
    },
    {
      "cell_type": "markdown",
      "metadata": {
        "id": "0o2sAapxRMAT"
      },
      "source": [
        "\n",
        "-  `config.WOD_1_1_0_TRAINING` is a pre-defined configuration that points to version 1.1.0 of the Waymo Open Dataset.\n",
        "\n",
        "By default, the `WOD_1_1_0_TRAINING` loads up to 128 objects (e.g. vehicles, pedestrians) per scenario.\n",
        "\n",
        "- the `dataloader.simulator_state_generator` function creates an iterator\n",
        "through Open Motion Dataset scenarios. Calling next on the iterator will retrieve the first scenario in the dataset.\n"
      ]
    },
    {
      "cell_type": "code",
      "execution_count": null,
      "metadata": {
        "id": "dkJwTuSLr0gh"
      },
      "outputs": [],
      "source": [
        "#config = dataclasses.replace(_config.WOD_1_1_0_TRAINING, max_num_objects=64)\n",
        "#data_iter = dataloader.simulator_state_generator(config=config)\n",
        "#scenario = next(data_iter)"
      ]
    },
    {
      "cell_type": "code",
      "execution_count": null,
      "metadata": {
        "id": "OY3-OOArsFcU"
      },
      "outputs": [],
      "source": [
        "# Using logged trajectory\n",
        "#img = visualization.plot_simulator_state(scenario, use_log_traj=True)\n",
        "#mediapy.show_image(img)"
      ]
    },
    {
      "cell_type": "code",
      "execution_count": null,
      "metadata": {
        "id": "06SjvXdRrV3N"
      },
      "outputs": [],
      "source": [
        "#imgs = []\n",
        "\n",
        "#state = scenario\n",
        "#for _ in range(scenario.remaining_timesteps):\n",
        "  #state = datatypes.update_state_by_log(state, num_steps=1)\n",
        "  #imgs.append(visualization.plot_simulator_state(state, use_log_traj=True))\n",
        "\n",
        "#mediapy.show_video(imgs, fps=10)"
      ]
    },
    {
      "cell_type": "markdown",
      "source": [
        "# Simulated Agents"
      ],
      "metadata": {
        "id": "GNXmgNxc7pIk"
      }
    },
    {
      "cell_type": "markdown",
      "source": [
        "### Data Processing\n"
      ],
      "metadata": {
        "id": "IucGRQtWJfIf"
      }
    },
    {
      "cell_type": "code",
      "source": [
        "max_num_objects = 5 # Maximum number of objects in a scenerio\n",
        "\n",
        "nums_people = []\n",
        "nums_other = []\n",
        "nums_peopleCyclist = []\n",
        "cyclistPeople_dict = {}\n",
        "people_dict = {}\n",
        "other_dict = {}\n",
        "\n",
        "num_scenerio = 600\n",
        "\n",
        "config = dataclasses.replace(_config.WOD_1_0_0_VALIDATION, max_num_objects=max_num_objects)\n",
        "data_iter = dataloader.simulator_state_generator(config=config)\n",
        "\n",
        "\n",
        "for i in range(num_scenerio):\n",
        "    scenarios = next(data_iter)\n",
        "    metadata = scenarios.object_metadata\n",
        "    object_types = metadata.object_types\n",
        "    if 2 in object_types:\n",
        "        nums_people.append(i)\n",
        "        people_dict[i] = scenarios\n",
        "        if 3 in object_types:\n",
        "            nums_peopleCyclist.append(i)\n",
        "            cyclistPeople_dict[i] = scenarios\n",
        "    else:\n",
        "        nums_other.append(i)\n",
        "        other_dict[i] = scenarios\n"
      ],
      "metadata": {
        "id": "mAD0W7ZDJaOl"
      },
      "execution_count": null,
      "outputs": []
    },
    {
      "cell_type": "code",
      "source": [
        "print(nums_peopleCyclist)\n",
        "print(\"number of scenerios with people and cyclist = \", len(nums_peopleCyclist))\n",
        "print(nums_people)\n",
        "print(\"number of scenerios with people = \", len(nums_people))\n",
        "print(nums_other)\n",
        "print(\"number of scenerios with no people = \", len(nums_other))"
      ],
      "metadata": {
        "id": "kPC8iMvoKdr1"
      },
      "execution_count": null,
      "outputs": []
    },
    {
      "cell_type": "code",
      "source": [
        "scenario = cyclistPeople_dict[nums_peopleCyclist[18]] # setting scenario to one of the iterator objects within the dictionary"
      ],
      "metadata": {
        "id": "TWv3eN5EqOmD"
      },
      "execution_count": null,
      "outputs": []
    },
    {
      "cell_type": "code",
      "source": [
        "# Config the multi-agent environment:\n",
        "init_steps = 11\n",
        "\n",
        "# Set the dynamics model the environment is using.\n",
        "# Note each actor interacting with the environment needs to provide action\n",
        "# compatible with this dynamics model.\n",
        "dynamics_model = dynamics.StateDynamics()\n",
        "\n",
        "# Expect users to control all valid object in the scene.\n",
        "env = _env.MultiAgentEnvironment(\n",
        "    dynamics_model=dynamics_model,\n",
        "    config=dataclasses.replace(\n",
        "        _config.EnvironmentConfig(),\n",
        "        max_num_objects=max_num_objects,\n",
        "        controlled_object=_config.ObjectType.VALID,\n",
        "    ),\n",
        ")"
      ],
      "metadata": {
        "id": "bz3drr6_tYDE"
      },
      "execution_count": null,
      "outputs": []
    },
    {
      "cell_type": "code",
      "source": [
        "metadata = scenario.object_metadata\n",
        "print('All object IDS:', metadata.ids)\n",
        "\n",
        "# 1 = vehicle\n",
        "# 2 = pedestrian\n",
        "# 3 = cyclist\n",
        "# -1 = non-moving pedestrian?\n",
        "print(\"Object types:\", metadata.object_types)"
      ],
      "metadata": {
        "id": "0mFjA6l05dDE"
      },
      "execution_count": null,
      "outputs": []
    },
    {
      "cell_type": "code",
      "source": [
        "# Setting up actors\n",
        "\n",
        "# An actor that doesn't move, controlling all objects with index > 4\n",
        "obj_idx = jnp.arange(max_num_objects)\n",
        "static_actor = agents.create_constant_speed_actor(\n",
        "    speed=0.0,\n",
        "    dynamics_model=dynamics_model,\n",
        "    is_controlled_func=lambda state: obj_idx > 4,\n",
        ")\n",
        "\n",
        "# IDM actor/policy controlling both object 0 and 1, 4.\n",
        "# Note IDM policy is an actor hard-coded to use dynamics.StateDynamics().\n",
        "actor_0 = agents.IDMRoutePolicy(\n",
        "    is_controlled_func=lambda state: (obj_idx == 0) | (obj_idx == 1) | (obj_idx == 4)\n",
        ")\n",
        "\n",
        "# Constant speed actor with predefined fixed speed controlling object 1.\n",
        "# actor_1 = agents.create_constant_speed_actor(\n",
        "#     speed=5.0,\n",
        "#     dynamics_model=dynamics_model,\n",
        "#     is_controlled_func=lambda state: obj_idx == 1,\n",
        "# )\n",
        "\n",
        "# Exper/log actor controlling objects 2 and 3.\n",
        "actor_2 = agents.create_expert_actor(\n",
        "    dynamics_model=dynamics_model,\n",
        "    is_controlled_func=lambda state: (obj_idx == 2) | (obj_idx == 3) #| (obj_idx == 4) #| (obj_idx == 4)\n",
        " )\n",
        "\n",
        "actors = [static_actor, actor_0,  actor_2] # actor_1,"
      ],
      "metadata": {
        "id": "J8YvjbkJwtiF"
      },
      "execution_count": null,
      "outputs": []
    },
    {
      "cell_type": "code",
      "source": [
        "jit_step = jax.jit(env.step)\n",
        "jit_select_action_list = [jax.jit(actor.select_action) for actor in actors]"
      ],
      "metadata": {
        "id": "3LsxnZWOw_EC"
      },
      "execution_count": null,
      "outputs": []
    },
    {
      "cell_type": "code",
      "execution_count": null,
      "metadata": {
        "id": "b5lblHGRxJ0k"
      },
      "outputs": [],
      "source": [
        "states = [env.reset(scenario)]\n",
        "\n",
        "# calculating states through time\n",
        "for _ in range(states[0].remaining_timesteps):\n",
        "  current_state = states[-1]\n",
        "\n",
        "  outputs = [\n",
        "      jit_select_action({}, current_state, None, None)\n",
        "      for jit_select_action in jit_select_action_list\n",
        "  ]\n",
        "  action = agents.merge_actions(outputs)\n",
        "  next_state = jit_step(current_state, action)\n",
        "\n",
        "  states.append(next_state)"
      ]
    },
    {
      "cell_type": "code",
      "source": [
        "# need to figure out how to calculate collision metric\n",
        "\n",
        "print(action.data) # positions of all the objects\n",
        "print(\"Overlap metric\", overlap.OverlapMetric().compute(states[0]).value) # calculates overlap metric for each state\n",
        "print(states[0].object_metadata) # metadata of objects"
      ],
      "metadata": {
        "id": "DpkwypJg76Wv"
      },
      "execution_count": null,
      "outputs": []
    },
    {
      "cell_type": "code",
      "source": [
        "collision_dic = {} # to collect collisions, key is the count, value is the collision array\n",
        "count = 0\n",
        "num_collisons = 0\n",
        "\n",
        "print(\"Object types:\", metadata.object_types)\n",
        "# calculating if collision, if collision add to collsion dic\n",
        "for state in states:\n",
        "    count += 1\n",
        "    collision = overlap.OverlapMetric().compute(state).value\n",
        "    collision_dic[count] = collision\n",
        "    if 1 in collision: # if there is a collision\n",
        "        print(f\"Collision: {collision}\")\n",
        "        num_collisons += 1\n",
        "\n",
        "print(\"Number of collisions: \", num_collisons)"
      ],
      "metadata": {
        "id": "EU2KeqkoIlkM"
      },
      "execution_count": null,
      "outputs": []
    },
    {
      "cell_type": "code",
      "source": [
        "from waymax.visualization import utils\n",
        "\n",
        "#viz_config = get_default_viz_config()\n",
        "imgs = []\n",
        "\n",
        "\n",
        "for state in states:\n",
        "    #print(f\"count: {count}\")\n",
        "    #print(state.viz_config.center_agent_idx)\n",
        "    #print(f\"center_agent_idx: {state.center_agent_idx}\")\n",
        "    #print(f\"Available agent IDs: {state.object_metadata.ids}\")\n",
        "\n",
        "    # HERE was trying to fix weird error I was getting with \"invalid\" center agent\n",
        "    # If center_agent_idx is invalid, update to a valid ID (e.g., the first agent):\n",
        "    #if viz_config.center_agent_idx not in state.object_metadata.ids:\n",
        "        #viz_config = dataclasses.replace(viz_config, center_agent_idx=state.object_metadata.ids[0] if state.object_metadata.ids else 0)\n",
        "    #default_viz_config = utils.VizConfig()\n",
        "    #modified_viz_config = dataclasses.replace(default_viz_config, center_agent_idx=center_agent_idx)\n",
        "    # Get valid center_agent_idx\n",
        "    #center_agent_idx = state.object_metadata.ids[0] if state.object_metadata.ids.size > 0 else 0\n",
        "    #viz_config_kwargs = {'center_agent_idx': center_agent_idx}\n",
        "    #viz_config = utils.VizConfig(**viz_config_kwargs)\n",
        "\n",
        "    # Check if the state has any valid object IDs\n",
        "    #if state.object_metadata.ids.size > 0:\n",
        "        # Update center_agent_idx in the default viz_config\n",
        "        #viz_config.center_agent_idx = state.object_metadata.ids[0]\n",
        "    #else:\n",
        "        # Handle cases where there are no valid object IDs\n",
        "        #viz_config.center_agent_idx = 0  # Default to 0\n",
        "\n",
        "    imgs.append(visualization.plot_simulator_state(state, use_log_traj=False)) # , viz_config=viz_config_dict)\n",
        "mediapy.show_video(imgs, fps=10)"
      ],
      "metadata": {
        "id": "r_Y1eebYxE6a"
      },
      "execution_count": null,
      "outputs": []
    },
    {
      "cell_type": "markdown",
      "source": [
        "### Creating plots and statistics"
      ],
      "metadata": {
        "id": "saLmXss4qiiy"
      }
    },
    {
      "cell_type": "markdown",
      "source": [
        "**Scenario 0:** 0 collisions, 1 vehicle, 2 pedestrians, 2 cyclists <br>\n",
        "**Scenario 1:** 23 timesteps of collision (btwn pedestrian and cyclist), 3 vehicles, 1 pedestrian, 1 cyclist <br>\n",
        "**Scenario 2:** 0 collisions, 3 vehicles, 1 pedestrian, 1 cyclist <br>\n",
        "**Scenario 3:** 0 collisions, 2 vehicles, 2 pedestrians, 1 cyclist <br>\n",
        "**Scenario 4:** 0 collisions, 3 vehicles, 1 pedestrians, 1 cyclist <br>\n",
        "**Scenario 5:** 0 collisions, 3 vehicles, 1 pedestrians, 1 cyclist <br>\n",
        "**Scenario 6:** 0 collisions, 2 vehicles, 1 pedestrians, 2 cyclists <br>\n",
        "**Scenario 7:** 12 timesteps of collison (btwn pedestrian and vehicle), 2 vehicles, 2 pedestrians 1 cyclist <br>\n",
        "**Scenario 8:** 0 collisions, 3 vehicles, 1 pedestrian, 1 cyclist <br>\n",
        "**Scenario 9: **0 collisions, 3 vehicles, 1 pedestrians, 1 cyclist <br>\n",
        "**Scenario 10: **8 timesteps of collisions (btwn vehicle and cyclist), 2 vehicles, 1 pedestrians, 2 cyclists [interesting case of log playback verses IDM making a serious difference] <br>\n",
        "**Scenario 11:** 0 collisions, 3 vehicles, 1 pedestrians, 1 cyclist <br>\n",
        "**Scenario 12:** 21 timesteps of collisions (btwn pedestrian and vehicle), 3 vehicles, 1 pedestrian, 1 cyclist [another interesting case of collision avoided using log playback] <br>\n",
        "**Scenario 13:** 0 collisions, 3 vehicles, 1 pedestrians, 1 cyclist <br>\n",
        "**Scenario 14:** 0 collisions, 3 vehicles, 1 pedestrians, 1 cyclist <br>\n",
        "**Scenario 15: **1 timestep of collisions (btwn 2 pedestrians), 2 vehicles, 2 pedestrians, 1 cyclist <br>\n",
        "**Scenario 16:** 0 collisions, 3 vehicles, 1 pedestrian, 1 cyclist <br>\n",
        "**Scenario 17:** 0 collisions, 3 vehicles, 1 pedestrians, 1 cyclist <br>\n",
        "**Scenario 18:** 0 collisions, 3 vehicles, 1 pedestrians, 1 cyclist <br>\n"
      ],
      "metadata": {
        "id": "xJKGfFVdrXG0"
      }
    },
    {
      "cell_type": "code",
      "source": [
        "import pandas as pd\n",
        "import matplotlib.pyplot as plt\n",
        "import seaborn as sns\n",
        "\n",
        "sns.set(style=\"whitegrid\")\n",
        "\n",
        "data = {\n",
        "    'Scenario': list(range(19)),\n",
        "    'Collision_Timesteps': [0, 23, 0, 0, 0, 0, 0, 12, 0, 0, 8, 0, 21, 0, 0, 1, 0, 0, 0],\n",
        "}\n",
        "\n",
        "df = pd.DataFrame(data)\n",
        "\n",
        "plt.figure(figsize=(12,6))\n",
        "sns.barplot(x='Scenario', y='Collision_Timesteps', data=df, palette='viridis')\n",
        "plt.title('Number of Collision Timesteps per Scenario')\n",
        "plt.xlabel('Scenario')\n",
        "plt.ylabel('Collision Timesteps')\n",
        "plt.axhline(0, color='black', linewidth=0.8)\n",
        "plt.savefig('collision_timesteps_per_scenario.png', dpi=300)\n",
        "plt.show()"
      ],
      "metadata": {
        "id": "Hq3us5Mqt2kV"
      },
      "execution_count": null,
      "outputs": []
    },
    {
      "cell_type": "code",
      "source": [
        "data_extended = {\n",
        "    'Scenario': list(range(19)),\n",
        "    'Vehicles': [1,3,3,2,3,3,2,2,3,3,2,3,3,3,3,2,3,3,3],\n",
        "    'Pedestrians': [2,1,1,2,1,1,1,2,1,1,1,1,1,1,1,2,1,1,1],\n",
        "    'Cyclists': [2,1,1,1,1,1,2,1,1,1,2,1,1,1,1,1,1,1,1],\n",
        "}\n",
        "\n",
        "df_extended = pd.DataFrame(data_extended)\n",
        "\n",
        "df_melted = df_extended.melt(id_vars='Scenario', value_vars=['Vehicles', 'Pedestrians', 'Cyclists'],\n",
        "                             var_name='Entity', value_name='Count')\n",
        "\n",
        "plt.figure(figsize=(14,7))\n",
        "sns.barplot(x='Scenario', y='Count', hue='Entity', data=df_melted, palette='Set2')\n",
        "plt.title('Distribution of Vehicles, Pedestrians, and Cyclists per Scenario')\n",
        "plt.xlabel('Scenario')\n",
        "plt.ylabel('Count')\n",
        "plt.legend(title='Entity')\n",
        "plt.savefig('entities_per_scenario.png', dpi=300)\n",
        "plt.show()"
      ],
      "metadata": {
        "id": "-oYIhNrEqtpU"
      },
      "execution_count": null,
      "outputs": []
    },
    {
      "cell_type": "code",
      "source": [
        "plt.figure(figsize=(10, 6))\n",
        "\n",
        "sns.countplot(data=df_melted, x='Count', hue='Entity', edgecolor='black')\n",
        "\n",
        "plt.title('Distribution of Vehicles, Pedestrians, and Cyclists per Scenario', fontsize=16) #, fontweight='bold')\n",
        "plt.xlabel('Number of Entities', fontsize=14)\n",
        "plt.ylabel('Number of Scenarios', fontsize=14)\n",
        "\n",
        "plt.xticks(range(0,5))\n",
        "plt.yticks(range(0, max(df_melted['Count'].value_counts()) + 2))\n",
        "plt.legend(title='Entity', title_fontsize='13', fontsize='12')\n",
        "\n",
        "\n",
        "plt.tight_layout()\n",
        "plt.savefig('distribution_entities_countplot.png', dpi=300)\n",
        "\n",
        "plt.ylim(0, 19)\n",
        "plt.xlim(-1, 3)\n",
        "plt.show()\n"
      ],
      "metadata": {
        "id": "OKA0_djWr6jz"
      },
      "execution_count": null,
      "outputs": []
    },
    {
      "cell_type": "code",
      "source": [
        "collision_types = ['Pedestrian ↔ Cyclist', 'Pedestrian ↔ Vehicle', 'Vehicle ↔ Cyclist', 'Pedestrians']\n",
        "counts = [1, 2, 1, 1]\n",
        "\n",
        "plt.figure(figsize=(8,8))\n",
        "plt.pie(counts, labels=collision_types, autopct='%1.1f%%', startangle=140, colors=sns.color_palette('Pastel1'))\n",
        "plt.title('Distribution of Collision Types')\n",
        "plt.savefig('collision_types_pie_chart.png', dpi=300)\n",
        "plt.show()"
      ],
      "metadata": {
        "id": "SsDY_VH-qyoM"
      },
      "execution_count": null,
      "outputs": []
    },
    {
      "cell_type": "code",
      "source": [
        "\n",
        "data = {\n",
        "    'Scenario': list(range(19)),\n",
        "    'Collision_Timesteps': [0, 23, 0, 0, 0, 0, 0, 12, 0, 0, 8, 0, 21, 0, 0, 1, 0, 0, 0],\n",
        "    'Collision_Type': ['None', 'Pedestrian ↔ Cyclist', 'None', 'None', 'None', 'None', 'None',\n",
        "                       'Pedestrian ↔ Vehicle', 'None', 'None', 'Vehicle ↔ Cyclist', 'None',\n",
        "                       'Pedestrian ↔ Vehicle', 'None', 'None', 'Pedestrians', 'None', 'None', 'None']\n",
        "}\n",
        "\n",
        "\n",
        "df_collisions = pd.DataFrame(data)\n",
        "\n",
        "# collision timesteps by collision type\n",
        "plt.figure(figsize=(10, 6))\n",
        "sns.boxplot(x='Collision_Type', y='Collision_Timesteps', data=df_collisions, palette='Set2')\n",
        "plt.title('Distribution of Collision Timesteps by Collision Type', fontsize=16)\n",
        "plt.xlabel('Collision Type', fontsize=14)\n",
        "plt.ylabel('Number of Collision Timesteps', fontsize=14)\n",
        "plt.xticks(rotation=25)\n",
        "plt.tight_layout()\n",
        "plt.savefig('boxplot_collision_timesteps.png', dpi=300)\n",
        "plt.show()\n"
      ],
      "metadata": {
        "id": "rdVNcAn9svOe"
      },
      "execution_count": null,
      "outputs": []
    },
    {
      "cell_type": "code",
      "source": [
        "plt.figure(figsize=(10, 6))\n",
        "\n",
        "sns.swarmplot(x='Collision_Type', y='Collision_Timesteps', data=df_collisions, palette='Set1', size=10)\n",
        "plt.title('Collision Timesteps by Collision Type', fontsize=16)\n",
        "plt.xlabel('Collision Type', fontsize=14)\n",
        "plt.ylabel('Number of Collision Timesteps', fontsize=14)\n",
        "plt.xticks(rotation=15)\n",
        "plt.tight_layout()\n",
        "plt.savefig('swarmplot_collision_timesteps.png', dpi=300)\n",
        "plt.show()\n"
      ],
      "metadata": {
        "id": "C6xeY-tJtJKl"
      },
      "execution_count": null,
      "outputs": []
    },
    {
      "cell_type": "code",
      "source": [
        "\n",
        "collision_data = {\n",
        "    'Collision_Type': ['Pedestrian ↔ Cyclist', 'Pedestrian ↔ Vehicle', 'Vehicle ↔ Cyclist', 'Pedestrians'],\n",
        "    'Count': [1, 2, 1, 1]\n",
        "}\n",
        "\n",
        "\n",
        "df_collision_types = pd.DataFrame(collision_data)\n",
        "\n",
        "\n",
        "sns.set(style=\"whitegrid\")\n",
        "\n",
        "\n",
        "plt.figure(figsize=(8,6))\n",
        "sns.barplot(x='Collision_Type', y='Count', data=df_collision_types, palette='Set2')\n",
        "\n",
        "\n",
        "plt.title('Distribution of Collision Types', fontsize=16)\n",
        "plt.xlabel('Collision Type', fontsize=14)\n",
        "plt.ylabel('Number of Occurrences', fontsize=14)\n",
        "plt.xticks(rotation=45, ha='right')\n",
        "plt.tight_layout()\n",
        "\n",
        "\n",
        "plt.savefig('collision_types_distribution.png', dpi=300)\n",
        "plt.show()\n"
      ],
      "metadata": {
        "id": "0w7NmUi0rGfZ"
      },
      "execution_count": null,
      "outputs": []
    },
    {
      "cell_type": "code",
      "source": [],
      "metadata": {
        "id": "CDkjwP9NvnjF"
      },
      "execution_count": null,
      "outputs": []
    }
  ],
  "metadata": {
    "colab": {
      "private_outputs": true,
      "provenance": []
    },
    "kernelspec": {
      "display_name": "CIERAREU",
      "language": "python",
      "name": "python3"
    },
    "language_info": {
      "codemirror_mode": {
        "name": "ipython",
        "version": 3
      },
      "file_extension": ".py",
      "mimetype": "text/x-python",
      "name": "python",
      "nbconvert_exporter": "python",
      "pygments_lexer": "ipython3",
      "version": "3.11.10"
    }
  },
  "nbformat": 4,
  "nbformat_minor": 0
}